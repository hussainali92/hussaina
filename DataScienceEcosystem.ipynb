{
 "cells": [
  {
   "cell_type": "markdown",
   "id": "b4663771-445f-4ac7-8f71-8bc09deec166",
   "metadata": {},
   "source": [
    "### Data Science Tools and Ecosystem"
   ]
  },
  {
   "cell_type": "markdown",
   "id": "7fb5874a-79fe-4ef9-8895-4974f3551dfd",
   "metadata": {},
   "source": [
    "### In this notebook, Data Science Tools and Ecosystem are summarized."
   ]
  },
  {
   "cell_type": "markdown",
   "id": "91320f38-4c33-4101-93ca-96a6569df00d",
   "metadata": {},
   "source": [
    "### Some of the popular languages that Data Scientists use are:\n",
    " 1. Python \n",
    " 2. R \n",
    " 3. Sql \n",
    " 4. Watson"
   ]
  },
  {
   "cell_type": "markdown",
   "id": "e1a35d67-f669-46a6-91a8-22c359388a6a",
   "metadata": {},
   "source": [
    "### Some of the commonly used libraries used by Data Scientists include:\n",
    "    1. pandas\n",
    "    2. numpy\n",
    "    3. matplotlib\n",
    "    4. scipy"
   ]
  },
  {
   "cell_type": "markdown",
   "id": "9c96830c-c0ae-4bf8-acc3-099bb3c495eb",
   "metadata": {},
   "source": [
    "|Data Science Tools|\n",
    "|-------------------|\n",
    "|anaconda|\n",
    "|jupeter notebook|\n",
    "|spyder|\n",
    "\n"
   ]
  },
  {
   "cell_type": "markdown",
   "id": "99f22bd3-d45f-4532-8588-f75758fd9069",
   "metadata": {},
   "source": [
    "### Below are a few examples of evaluating arithmetic expressions in Python"
   ]
  },
  {
   "cell_type": "markdown",
   "id": "74a54ecc-8ba2-4ccf-9e01-a79377612831",
   "metadata": {},
   "source": [
    "### This a simple arithmetic expression to mutiply then add integers"
   ]
  },
  {
   "cell_type": "code",
   "execution_count": 1,
   "id": "19734e8f-1861-4e00-b44e-3535a5b3c408",
   "metadata": {
    "tags": []
   },
   "outputs": [
    {
     "name": "stdout",
     "output_type": "stream",
     "text": [
      "17\n"
     ]
    }
   ],
   "source": [
    "x = (3*4)+5\n",
    "print(x)"
   ]
  },
  {
   "cell_type": "markdown",
   "id": "266edc83-3cba-4855-ba60-498f6123178e",
   "metadata": {},
   "source": [
    "### This will convert 200 minutes to hours by diving by 60."
   ]
  },
  {
   "cell_type": "code",
   "execution_count": 2,
   "id": "f1e43ea4-cc22-4bef-9922-60e6c44db815",
   "metadata": {
    "tags": []
   },
   "outputs": [
    {
     "name": "stdout",
     "output_type": "stream",
     "text": [
      "3.3333333333333335\n"
     ]
    }
   ],
   "source": [
    "x = 200 / 60 \n",
    "print(x)"
   ]
  },
  {
   "cell_type": "markdown",
   "id": "3d8f21d8-3975-4a23-b2ba-cef0d64dbe19",
   "metadata": {
    "tags": []
   },
   "source": [
    "**Objectives:**\n",
    "- python\n",
    "- R\n",
    "- hadoop"
   ]
  },
  {
   "cell_type": "markdown",
   "id": "df067912-bfb6-4750-b5a4-3c03b6cdf331",
   "metadata": {},
   "source": [
    "## Author\n",
    "  hussain"
   ]
  }
 ],
 "metadata": {
  "kernelspec": {
   "display_name": "Python",
   "language": "python",
   "name": "conda-env-python-py"
  },
  "language_info": {
   "codemirror_mode": {
    "name": "ipython",
    "version": 3
   },
   "file_extension": ".py",
   "mimetype": "text/x-python",
   "name": "python",
   "nbconvert_exporter": "python",
   "pygments_lexer": "ipython3",
   "version": "3.7.12"
  }
 },
 "nbformat": 4,
 "nbformat_minor": 5
}
